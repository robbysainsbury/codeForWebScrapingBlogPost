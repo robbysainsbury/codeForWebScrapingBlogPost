{
 "cells": [
  {
   "cell_type": "code",
   "execution_count": 65,
   "metadata": {},
   "outputs": [],
   "source": [
    "import pandas as pd\n",
    "import matplotlib"
   ]
  },
  {
   "cell_type": "code",
   "execution_count": null,
   "metadata": {},
   "outputs": [],
   "source": [
    "#creating a variable of the the url\n",
    "url = \"https://en.wikipedia.org/wiki/List_of_epidemics\""
   ]
  },
  {
   "cell_type": "code",
   "execution_count": 59,
   "metadata": {},
   "outputs": [
    {
     "data": {
      "text/plain": [
       "(253, 6)"
      ]
     },
     "execution_count": 59,
     "metadata": {},
     "output_type": "execute_result"
    }
   ],
   "source": [
    "#creating a list of all the tables on the page\n",
    "dfs = pd.read_html(url)\n",
    "\n",
    "#the following are basic exploratory methods to find which table in the list I want\n",
    "len(dfs)\n",
    "dfs[1]"
   ]
  },
  {
   "cell_type": "code",
   "execution_count": 61,
   "metadata": {},
   "outputs": [
    {
     "data": {
      "text/html": [
       "<div>\n",
       "<style scoped>\n",
       "    .dataframe tbody tr th:only-of-type {\n",
       "        vertical-align: middle;\n",
       "    }\n",
       "\n",
       "    .dataframe tbody tr th {\n",
       "        vertical-align: top;\n",
       "    }\n",
       "\n",
       "    .dataframe thead th {\n",
       "        text-align: right;\n",
       "    }\n",
       "</style>\n",
       "<table border=\"1\" class=\"dataframe\">\n",
       "  <thead>\n",
       "    <tr style=\"text-align: right;\">\n",
       "      <th></th>\n",
       "      <th>Event</th>\n",
       "      <th>Date</th>\n",
       "      <th>Location</th>\n",
       "      <th>Disease</th>\n",
       "      <th>Death toll (estimate)</th>\n",
       "      <th>Ref.</th>\n",
       "    </tr>\n",
       "  </thead>\n",
       "  <tbody>\n",
       "    <tr>\n",
       "      <th>0</th>\n",
       "      <td>1350 BC plague of Megiddo</td>\n",
       "      <td>1350 BC</td>\n",
       "      <td>Megiddo, land of Canaan</td>\n",
       "      <td>Amarna letters EA 244, Biridiya, mayor of Megi...</td>\n",
       "      <td>Unknown</td>\n",
       "      <td>[25]</td>\n",
       "    </tr>\n",
       "    <tr>\n",
       "      <th>1</th>\n",
       "      <td>Plague of Athens</td>\n",
       "      <td>429–426 BC</td>\n",
       "      <td>Greece, Libya, Egypt, Ethiopia</td>\n",
       "      <td>Unknown, possibly typhus, typhoid fever or vir...</td>\n",
       "      <td>75,000–100,000</td>\n",
       "      <td>[26][27][28][29]</td>\n",
       "    </tr>\n",
       "    <tr>\n",
       "      <th>2</th>\n",
       "      <td>412 BC epidemic</td>\n",
       "      <td>412 BC</td>\n",
       "      <td>Greece (Northern Greece, Roman Republic)</td>\n",
       "      <td>Unknown, possibly influenza</td>\n",
       "      <td>Unknown</td>\n",
       "      <td>[30]</td>\n",
       "    </tr>\n",
       "    <tr>\n",
       "      <th>3</th>\n",
       "      <td>Antonine Plague</td>\n",
       "      <td>165–180 (possibly up to 190)</td>\n",
       "      <td>Roman Empire</td>\n",
       "      <td>Unknown, possibly smallpox</td>\n",
       "      <td>5–10 million</td>\n",
       "      <td>[31][32]</td>\n",
       "    </tr>\n",
       "    <tr>\n",
       "      <th>4</th>\n",
       "      <td>Jian'an Plague</td>\n",
       "      <td>217</td>\n",
       "      <td>Han Dynasty</td>\n",
       "      <td>Unknown, possibly typhoid fever or viral hemor...</td>\n",
       "      <td>Unknown</td>\n",
       "      <td>[33][34]</td>\n",
       "    </tr>\n",
       "    <tr>\n",
       "      <th>...</th>\n",
       "      <td>...</td>\n",
       "      <td>...</td>\n",
       "      <td>...</td>\n",
       "      <td>...</td>\n",
       "      <td>...</td>\n",
       "      <td>...</td>\n",
       "    </tr>\n",
       "    <tr>\n",
       "      <th>248</th>\n",
       "      <td>2020 Nigeria yellow fever epidemic</td>\n",
       "      <td>2020</td>\n",
       "      <td>Nigeria</td>\n",
       "      <td>Yellow fever</td>\n",
       "      <td>296 (as of 31 December 2020)</td>\n",
       "      <td>[306]</td>\n",
       "    </tr>\n",
       "    <tr>\n",
       "      <th>249</th>\n",
       "      <td>2021 India black fungus epidemic</td>\n",
       "      <td>2021–present</td>\n",
       "      <td>India</td>\n",
       "      <td>Black fungus / COVID-19 associated mucormycosis</td>\n",
       "      <td>4332</td>\n",
       "      <td>[307]</td>\n",
       "    </tr>\n",
       "    <tr>\n",
       "      <th>250</th>\n",
       "      <td>2022 hepatitis of unknown origin in children</td>\n",
       "      <td>2021–present</td>\n",
       "      <td>Worldwide</td>\n",
       "      <td>Hepatitis by Adenovirus variant AF41 (Unconfir...</td>\n",
       "      <td>18</td>\n",
       "      <td>[308][309][310]</td>\n",
       "    </tr>\n",
       "    <tr>\n",
       "      <th>251</th>\n",
       "      <td>2022 monkeypox outbreak</td>\n",
       "      <td>2022–present</td>\n",
       "      <td>Worldwide</td>\n",
       "      <td>Monkeypox virus</td>\n",
       "      <td>136</td>\n",
       "      <td>[311][312][313][314]</td>\n",
       "    </tr>\n",
       "    <tr>\n",
       "      <th>252</th>\n",
       "      <td>2022 Uganda Ebola outbreak</td>\n",
       "      <td>2022–present</td>\n",
       "      <td>Uganda</td>\n",
       "      <td>Sudan ebolavirus</td>\n",
       "      <td>23</td>\n",
       "      <td>[315]</td>\n",
       "    </tr>\n",
       "  </tbody>\n",
       "</table>\n",
       "<p>253 rows × 6 columns</p>\n",
       "</div>"
      ],
      "text/plain": [
       "                                            Event  \\\n",
       "0                       1350 BC plague of Megiddo   \n",
       "1                                Plague of Athens   \n",
       "2                                 412 BC epidemic   \n",
       "3                                 Antonine Plague   \n",
       "4                                  Jian'an Plague   \n",
       "..                                            ...   \n",
       "248            2020 Nigeria yellow fever epidemic   \n",
       "249              2021 India black fungus epidemic   \n",
       "250  2022 hepatitis of unknown origin in children   \n",
       "251                       2022 monkeypox outbreak   \n",
       "252                    2022 Uganda Ebola outbreak   \n",
       "\n",
       "                             Date                                  Location  \\\n",
       "0                         1350 BC                   Megiddo, land of Canaan   \n",
       "1                      429–426 BC            Greece, Libya, Egypt, Ethiopia   \n",
       "2                          412 BC  Greece (Northern Greece, Roman Republic)   \n",
       "3    165–180 (possibly up to 190)                              Roman Empire   \n",
       "4                             217                               Han Dynasty   \n",
       "..                            ...                                       ...   \n",
       "248                          2020                                   Nigeria   \n",
       "249                  2021–present                                     India   \n",
       "250                  2021–present                                 Worldwide   \n",
       "251                  2022–present                                 Worldwide   \n",
       "252                  2022–present                                    Uganda   \n",
       "\n",
       "                                               Disease  \\\n",
       "0    Amarna letters EA 244, Biridiya, mayor of Megi...   \n",
       "1    Unknown, possibly typhus, typhoid fever or vir...   \n",
       "2                          Unknown, possibly influenza   \n",
       "3                           Unknown, possibly smallpox   \n",
       "4    Unknown, possibly typhoid fever or viral hemor...   \n",
       "..                                                 ...   \n",
       "248                                       Yellow fever   \n",
       "249    Black fungus / COVID-19 associated mucormycosis   \n",
       "250  Hepatitis by Adenovirus variant AF41 (Unconfir...   \n",
       "251                                    Monkeypox virus   \n",
       "252                                   Sudan ebolavirus   \n",
       "\n",
       "            Death toll (estimate)                  Ref.  \n",
       "0                         Unknown                  [25]  \n",
       "1                  75,000–100,000      [26][27][28][29]  \n",
       "2                         Unknown                  [30]  \n",
       "3                    5–10 million              [31][32]  \n",
       "4                         Unknown              [33][34]  \n",
       "..                            ...                   ...  \n",
       "248  296 (as of 31 December 2020)                 [306]  \n",
       "249                          4332                 [307]  \n",
       "250                            18       [308][309][310]  \n",
       "251                           136  [311][312][313][314]  \n",
       "252                            23                 [315]  \n",
       "\n",
       "[253 rows x 6 columns]"
      ]
     },
     "execution_count": 61,
     "metadata": {},
     "output_type": "execute_result"
    }
   ],
   "source": [
    "#creating a dataframe with just the table of data I want\n",
    "epidemics = dfs[1]\n",
    "epidemics"
   ]
  },
  {
   "cell_type": "code",
   "execution_count": 62,
   "metadata": {},
   "outputs": [
    {
     "data": {
      "text/plain": [
       "(253, 6)"
      ]
     },
     "execution_count": 62,
     "metadata": {},
     "output_type": "execute_result"
    }
   ],
   "source": [
    "#double checking the data table to make sure it meets size requirments\n",
    "epidemics.shape"
   ]
  },
  {
   "cell_type": "code",
   "execution_count": 81,
   "metadata": {},
   "outputs": [],
   "source": [
    "epidemics.to_csv(\"epidemics.csv\")"
   ]
  },
  {
   "cell_type": "code",
   "execution_count": 79,
   "metadata": {},
   "outputs": [
    {
     "data": {
      "image/png": "[encoded data removed]",
      "text/plain": [
       "<Figure size 640x480 with 1 Axes>"
      ]
     },
     "metadata": {},
     "output_type": "display_data"
    }
   ],
   "source": [
    "epidemics['Location'].value_counts().plot(kind=\"bar\", title=\"Count of Epidemic Events per Location\").get_xaxis().set_visible(False)"
   ]
  }
 ],
 "metadata": {
  "kernelspec": {
   "display_name": "Python 3.9.13 ('dataScience')",
   "language": "python",
   "name": "python3"
  },
  "language_info": {
   "codemirror_mode": {
    "name": "ipython",
    "version": 3
   },
   "file_extension": ".py",
   "mimetype": "text/x-python",
   "name": "python",
   "nbconvert_exporter": "python",
   "pygments_lexer": "ipython3",
   "version": "3.9.13"
  },
  "orig_nbformat": 4,
  "vscode": {
   "interpreter": {
    "hash": "042bcf85dacf0f95a615c53ad00b2b8e1c6385b0102d6c873df77df46f8335f0"
   }
  }
 },
 "nbformat": 4,
 "nbformat_minor": 2
}
